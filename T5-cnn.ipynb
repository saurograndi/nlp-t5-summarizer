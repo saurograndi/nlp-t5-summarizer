{
  "nbformat": 4,
  "nbformat_minor": 0,
  "metadata": {
    "colab": {
      "provenance": [],
      "gpuType": "V100",
      "authorship_tag": "ABX9TyOKdwDzAXQsq2mr+ofIE/te",
      "include_colab_link": true
    },
    "kernelspec": {
      "name": "python3",
      "display_name": "Python 3"
    },
    "language_info": {
      "name": "python"
    },
    "accelerator": "GPU",
    "widgets": {
      "application/vnd.jupyter.widget-state+json": {
        "1461aca704e74d3b93fce756c2518ba6": {
          "model_module": "@jupyter-widgets/controls",
          "model_name": "HBoxModel",
          "model_module_version": "1.5.0",
          "state": {
            "_dom_classes": [],
            "_model_module": "@jupyter-widgets/controls",
            "_model_module_version": "1.5.0",
            "_model_name": "HBoxModel",
            "_view_count": null,
            "_view_module": "@jupyter-widgets/controls",
            "_view_module_version": "1.5.0",
            "_view_name": "HBoxView",
            "box_style": "",
            "children": [
              "IPY_MODEL_8c3e3d8c512e494594cc63309ff5570f",
              "IPY_MODEL_8f3053bde2084a04b418b42ef0a9100b",
              "IPY_MODEL_95590267c6604de4ab99fa2827f8af04"
            ],
            "layout": "IPY_MODEL_5ec948a306824bb4a18d80f13574fbbc"
          }
        },
        "8c3e3d8c512e494594cc63309ff5570f": {
          "model_module": "@jupyter-widgets/controls",
          "model_name": "HTMLModel",
          "model_module_version": "1.5.0",
          "state": {
            "_dom_classes": [],
            "_model_module": "@jupyter-widgets/controls",
            "_model_module_version": "1.5.0",
            "_model_name": "HTMLModel",
            "_view_count": null,
            "_view_module": "@jupyter-widgets/controls",
            "_view_module_version": "1.5.0",
            "_view_name": "HTMLView",
            "description": "",
            "description_tooltip": null,
            "layout": "IPY_MODEL_ef72a53394104c98a24769ad049b298d",
            "placeholder": "​",
            "style": "IPY_MODEL_7cb5c1016cc04f0e965cb3531d22e02f",
            "value": "Map: 100%"
          }
        },
        "8f3053bde2084a04b418b42ef0a9100b": {
          "model_module": "@jupyter-widgets/controls",
          "model_name": "FloatProgressModel",
          "model_module_version": "1.5.0",
          "state": {
            "_dom_classes": [],
            "_model_module": "@jupyter-widgets/controls",
            "_model_module_version": "1.5.0",
            "_model_name": "FloatProgressModel",
            "_view_count": null,
            "_view_module": "@jupyter-widgets/controls",
            "_view_module_version": "1.5.0",
            "_view_name": "ProgressView",
            "bar_style": "success",
            "description": "",
            "description_tooltip": null,
            "layout": "IPY_MODEL_f9705a57dc474b17a8190c92bd508869",
            "max": 149,
            "min": 0,
            "orientation": "horizontal",
            "style": "IPY_MODEL_658e6ec7a32b4827aba7f5ee010facd5",
            "value": 149
          }
        },
        "95590267c6604de4ab99fa2827f8af04": {
          "model_module": "@jupyter-widgets/controls",
          "model_name": "HTMLModel",
          "model_module_version": "1.5.0",
          "state": {
            "_dom_classes": [],
            "_model_module": "@jupyter-widgets/controls",
            "_model_module_version": "1.5.0",
            "_model_name": "HTMLModel",
            "_view_count": null,
            "_view_module": "@jupyter-widgets/controls",
            "_view_module_version": "1.5.0",
            "_view_name": "HTMLView",
            "description": "",
            "description_tooltip": null,
            "layout": "IPY_MODEL_d03ea8fadfc14444bf62f87ea5fcba72",
            "placeholder": "​",
            "style": "IPY_MODEL_881ad5bd6c864147aded80dcfd084e13",
            "value": " 149/149 [00:00&lt;00:00, 245.12 examples/s]"
          }
        },
        "5ec948a306824bb4a18d80f13574fbbc": {
          "model_module": "@jupyter-widgets/base",
          "model_name": "LayoutModel",
          "model_module_version": "1.2.0",
          "state": {
            "_model_module": "@jupyter-widgets/base",
            "_model_module_version": "1.2.0",
            "_model_name": "LayoutModel",
            "_view_count": null,
            "_view_module": "@jupyter-widgets/base",
            "_view_module_version": "1.2.0",
            "_view_name": "LayoutView",
            "align_content": null,
            "align_items": null,
            "align_self": null,
            "border": null,
            "bottom": null,
            "display": null,
            "flex": null,
            "flex_flow": null,
            "grid_area": null,
            "grid_auto_columns": null,
            "grid_auto_flow": null,
            "grid_auto_rows": null,
            "grid_column": null,
            "grid_gap": null,
            "grid_row": null,
            "grid_template_areas": null,
            "grid_template_columns": null,
            "grid_template_rows": null,
            "height": null,
            "justify_content": null,
            "justify_items": null,
            "left": null,
            "margin": null,
            "max_height": null,
            "max_width": null,
            "min_height": null,
            "min_width": null,
            "object_fit": null,
            "object_position": null,
            "order": null,
            "overflow": null,
            "overflow_x": null,
            "overflow_y": null,
            "padding": null,
            "right": null,
            "top": null,
            "visibility": null,
            "width": null
          }
        },
        "ef72a53394104c98a24769ad049b298d": {
          "model_module": "@jupyter-widgets/base",
          "model_name": "LayoutModel",
          "model_module_version": "1.2.0",
          "state": {
            "_model_module": "@jupyter-widgets/base",
            "_model_module_version": "1.2.0",
            "_model_name": "LayoutModel",
            "_view_count": null,
            "_view_module": "@jupyter-widgets/base",
            "_view_module_version": "1.2.0",
            "_view_name": "LayoutView",
            "align_content": null,
            "align_items": null,
            "align_self": null,
            "border": null,
            "bottom": null,
            "display": null,
            "flex": null,
            "flex_flow": null,
            "grid_area": null,
            "grid_auto_columns": null,
            "grid_auto_flow": null,
            "grid_auto_rows": null,
            "grid_column": null,
            "grid_gap": null,
            "grid_row": null,
            "grid_template_areas": null,
            "grid_template_columns": null,
            "grid_template_rows": null,
            "height": null,
            "justify_content": null,
            "justify_items": null,
            "left": null,
            "margin": null,
            "max_height": null,
            "max_width": null,
            "min_height": null,
            "min_width": null,
            "object_fit": null,
            "object_position": null,
            "order": null,
            "overflow": null,
            "overflow_x": null,
            "overflow_y": null,
            "padding": null,
            "right": null,
            "top": null,
            "visibility": null,
            "width": null
          }
        },
        "7cb5c1016cc04f0e965cb3531d22e02f": {
          "model_module": "@jupyter-widgets/controls",
          "model_name": "DescriptionStyleModel",
          "model_module_version": "1.5.0",
          "state": {
            "_model_module": "@jupyter-widgets/controls",
            "_model_module_version": "1.5.0",
            "_model_name": "DescriptionStyleModel",
            "_view_count": null,
            "_view_module": "@jupyter-widgets/base",
            "_view_module_version": "1.2.0",
            "_view_name": "StyleView",
            "description_width": ""
          }
        },
        "f9705a57dc474b17a8190c92bd508869": {
          "model_module": "@jupyter-widgets/base",
          "model_name": "LayoutModel",
          "model_module_version": "1.2.0",
          "state": {
            "_model_module": "@jupyter-widgets/base",
            "_model_module_version": "1.2.0",
            "_model_name": "LayoutModel",
            "_view_count": null,
            "_view_module": "@jupyter-widgets/base",
            "_view_module_version": "1.2.0",
            "_view_name": "LayoutView",
            "align_content": null,
            "align_items": null,
            "align_self": null,
            "border": null,
            "bottom": null,
            "display": null,
            "flex": null,
            "flex_flow": null,
            "grid_area": null,
            "grid_auto_columns": null,
            "grid_auto_flow": null,
            "grid_auto_rows": null,
            "grid_column": null,
            "grid_gap": null,
            "grid_row": null,
            "grid_template_areas": null,
            "grid_template_columns": null,
            "grid_template_rows": null,
            "height": null,
            "justify_content": null,
            "justify_items": null,
            "left": null,
            "margin": null,
            "max_height": null,
            "max_width": null,
            "min_height": null,
            "min_width": null,
            "object_fit": null,
            "object_position": null,
            "order": null,
            "overflow": null,
            "overflow_x": null,
            "overflow_y": null,
            "padding": null,
            "right": null,
            "top": null,
            "visibility": null,
            "width": null
          }
        },
        "658e6ec7a32b4827aba7f5ee010facd5": {
          "model_module": "@jupyter-widgets/controls",
          "model_name": "ProgressStyleModel",
          "model_module_version": "1.5.0",
          "state": {
            "_model_module": "@jupyter-widgets/controls",
            "_model_module_version": "1.5.0",
            "_model_name": "ProgressStyleModel",
            "_view_count": null,
            "_view_module": "@jupyter-widgets/base",
            "_view_module_version": "1.2.0",
            "_view_name": "StyleView",
            "bar_color": null,
            "description_width": ""
          }
        },
        "d03ea8fadfc14444bf62f87ea5fcba72": {
          "model_module": "@jupyter-widgets/base",
          "model_name": "LayoutModel",
          "model_module_version": "1.2.0",
          "state": {
            "_model_module": "@jupyter-widgets/base",
            "_model_module_version": "1.2.0",
            "_model_name": "LayoutModel",
            "_view_count": null,
            "_view_module": "@jupyter-widgets/base",
            "_view_module_version": "1.2.0",
            "_view_name": "LayoutView",
            "align_content": null,
            "align_items": null,
            "align_self": null,
            "border": null,
            "bottom": null,
            "display": null,
            "flex": null,
            "flex_flow": null,
            "grid_area": null,
            "grid_auto_columns": null,
            "grid_auto_flow": null,
            "grid_auto_rows": null,
            "grid_column": null,
            "grid_gap": null,
            "grid_row": null,
            "grid_template_areas": null,
            "grid_template_columns": null,
            "grid_template_rows": null,
            "height": null,
            "justify_content": null,
            "justify_items": null,
            "left": null,
            "margin": null,
            "max_height": null,
            "max_width": null,
            "min_height": null,
            "min_width": null,
            "object_fit": null,
            "object_position": null,
            "order": null,
            "overflow": null,
            "overflow_x": null,
            "overflow_y": null,
            "padding": null,
            "right": null,
            "top": null,
            "visibility": null,
            "width": null
          }
        },
        "881ad5bd6c864147aded80dcfd084e13": {
          "model_module": "@jupyter-widgets/controls",
          "model_name": "DescriptionStyleModel",
          "model_module_version": "1.5.0",
          "state": {
            "_model_module": "@jupyter-widgets/controls",
            "_model_module_version": "1.5.0",
            "_model_name": "DescriptionStyleModel",
            "_view_count": null,
            "_view_module": "@jupyter-widgets/base",
            "_view_module_version": "1.2.0",
            "_view_name": "StyleView",
            "description_width": ""
          }
        }
      }
    }
  },
  "cells": [
    {
      "cell_type": "markdown",
      "metadata": {
        "id": "view-in-github",
        "colab_type": "text"
      },
      "source": [
        "<a href=\"https://colab.research.google.com/github/saurograndi/nlp-t5-summarizer/blob/main/T5-cnn.ipynb\" target=\"_parent\"><img src=\"https://colab.research.google.com/assets/colab-badge.svg\" alt=\"Open In Colab\"/></a>"
      ]
    },
    {
      "cell_type": "markdown",
      "source": [
        "# Text Summarization with T5"
      ],
      "metadata": {
        "id": "_he34hIHWI3Y"
      }
    },
    {
      "cell_type": "code",
      "source": [
        "!pip install sentencepiece\n",
        "!pip install transformers\n",
        "!pip install datasets\n",
        "!pip install nltk\n",
        "!pip install rouge_score\n",
        "!pip install evaluate"
      ],
      "metadata": {
        "colab": {
          "base_uri": "https://localhost:8080/"
        },
        "id": "dFnx0IAvropD",
        "outputId": "672474a0-4048-44a8-9bb4-0d31b906f1d2"
      },
      "execution_count": null,
      "outputs": [
        {
          "output_type": "stream",
          "name": "stdout",
          "text": [
            "Requirement already satisfied: sentencepiece in /usr/local/lib/python3.10/dist-packages (0.1.99)\n",
            "Requirement already satisfied: transformers in /usr/local/lib/python3.10/dist-packages (4.35.2)\n",
            "Requirement already satisfied: filelock in /usr/local/lib/python3.10/dist-packages (from transformers) (3.13.1)\n",
            "Requirement already satisfied: huggingface-hub<1.0,>=0.16.4 in /usr/local/lib/python3.10/dist-packages (from transformers) (0.19.4)\n",
            "Requirement already satisfied: numpy>=1.17 in /usr/local/lib/python3.10/dist-packages (from transformers) (1.23.5)\n",
            "Requirement already satisfied: packaging>=20.0 in /usr/local/lib/python3.10/dist-packages (from transformers) (23.2)\n",
            "Requirement already satisfied: pyyaml>=5.1 in /usr/local/lib/python3.10/dist-packages (from transformers) (6.0.1)\n",
            "Requirement already satisfied: regex!=2019.12.17 in /usr/local/lib/python3.10/dist-packages (from transformers) (2023.6.3)\n",
            "Requirement already satisfied: requests in /usr/local/lib/python3.10/dist-packages (from transformers) (2.31.0)\n",
            "Requirement already satisfied: tokenizers<0.19,>=0.14 in /usr/local/lib/python3.10/dist-packages (from transformers) (0.15.0)\n",
            "Requirement already satisfied: safetensors>=0.3.1 in /usr/local/lib/python3.10/dist-packages (from transformers) (0.4.1)\n",
            "Requirement already satisfied: tqdm>=4.27 in /usr/local/lib/python3.10/dist-packages (from transformers) (4.66.1)\n",
            "Requirement already satisfied: fsspec>=2023.5.0 in /usr/local/lib/python3.10/dist-packages (from huggingface-hub<1.0,>=0.16.4->transformers) (2023.6.0)\n",
            "Requirement already satisfied: typing-extensions>=3.7.4.3 in /usr/local/lib/python3.10/dist-packages (from huggingface-hub<1.0,>=0.16.4->transformers) (4.5.0)\n",
            "Requirement already satisfied: charset-normalizer<4,>=2 in /usr/local/lib/python3.10/dist-packages (from requests->transformers) (3.3.2)\n",
            "Requirement already satisfied: idna<4,>=2.5 in /usr/local/lib/python3.10/dist-packages (from requests->transformers) (3.6)\n",
            "Requirement already satisfied: urllib3<3,>=1.21.1 in /usr/local/lib/python3.10/dist-packages (from requests->transformers) (2.0.7)\n",
            "Requirement already satisfied: certifi>=2017.4.17 in /usr/local/lib/python3.10/dist-packages (from requests->transformers) (2023.11.17)\n",
            "Requirement already satisfied: datasets in /usr/local/lib/python3.10/dist-packages (2.15.0)\n",
            "Requirement already satisfied: numpy>=1.17 in /usr/local/lib/python3.10/dist-packages (from datasets) (1.23.5)\n",
            "Requirement already satisfied: pyarrow>=8.0.0 in /usr/local/lib/python3.10/dist-packages (from datasets) (9.0.0)\n",
            "Requirement already satisfied: pyarrow-hotfix in /usr/local/lib/python3.10/dist-packages (from datasets) (0.6)\n",
            "Requirement already satisfied: dill<0.3.8,>=0.3.0 in /usr/local/lib/python3.10/dist-packages (from datasets) (0.3.7)\n",
            "Requirement already satisfied: pandas in /usr/local/lib/python3.10/dist-packages (from datasets) (1.5.3)\n",
            "Requirement already satisfied: requests>=2.19.0 in /usr/local/lib/python3.10/dist-packages (from datasets) (2.31.0)\n",
            "Requirement already satisfied: tqdm>=4.62.1 in /usr/local/lib/python3.10/dist-packages (from datasets) (4.66.1)\n",
            "Requirement already satisfied: xxhash in /usr/local/lib/python3.10/dist-packages (from datasets) (3.4.1)\n",
            "Requirement already satisfied: multiprocess in /usr/local/lib/python3.10/dist-packages (from datasets) (0.70.15)\n",
            "Requirement already satisfied: fsspec[http]<=2023.10.0,>=2023.1.0 in /usr/local/lib/python3.10/dist-packages (from datasets) (2023.6.0)\n",
            "Requirement already satisfied: aiohttp in /usr/local/lib/python3.10/dist-packages (from datasets) (3.9.1)\n",
            "Requirement already satisfied: huggingface-hub>=0.18.0 in /usr/local/lib/python3.10/dist-packages (from datasets) (0.19.4)\n",
            "Requirement already satisfied: packaging in /usr/local/lib/python3.10/dist-packages (from datasets) (23.2)\n",
            "Requirement already satisfied: pyyaml>=5.1 in /usr/local/lib/python3.10/dist-packages (from datasets) (6.0.1)\n",
            "Requirement already satisfied: attrs>=17.3.0 in /usr/local/lib/python3.10/dist-packages (from aiohttp->datasets) (23.1.0)\n",
            "Requirement already satisfied: multidict<7.0,>=4.5 in /usr/local/lib/python3.10/dist-packages (from aiohttp->datasets) (6.0.4)\n",
            "Requirement already satisfied: yarl<2.0,>=1.0 in /usr/local/lib/python3.10/dist-packages (from aiohttp->datasets) (1.9.3)\n",
            "Requirement already satisfied: frozenlist>=1.1.1 in /usr/local/lib/python3.10/dist-packages (from aiohttp->datasets) (1.4.0)\n",
            "Requirement already satisfied: aiosignal>=1.1.2 in /usr/local/lib/python3.10/dist-packages (from aiohttp->datasets) (1.3.1)\n",
            "Requirement already satisfied: async-timeout<5.0,>=4.0 in /usr/local/lib/python3.10/dist-packages (from aiohttp->datasets) (4.0.3)\n",
            "Requirement already satisfied: filelock in /usr/local/lib/python3.10/dist-packages (from huggingface-hub>=0.18.0->datasets) (3.13.1)\n",
            "Requirement already satisfied: typing-extensions>=3.7.4.3 in /usr/local/lib/python3.10/dist-packages (from huggingface-hub>=0.18.0->datasets) (4.5.0)\n",
            "Requirement already satisfied: charset-normalizer<4,>=2 in /usr/local/lib/python3.10/dist-packages (from requests>=2.19.0->datasets) (3.3.2)\n",
            "Requirement already satisfied: idna<4,>=2.5 in /usr/local/lib/python3.10/dist-packages (from requests>=2.19.0->datasets) (3.6)\n",
            "Requirement already satisfied: urllib3<3,>=1.21.1 in /usr/local/lib/python3.10/dist-packages (from requests>=2.19.0->datasets) (2.0.7)\n",
            "Requirement already satisfied: certifi>=2017.4.17 in /usr/local/lib/python3.10/dist-packages (from requests>=2.19.0->datasets) (2023.11.17)\n",
            "Requirement already satisfied: python-dateutil>=2.8.1 in /usr/local/lib/python3.10/dist-packages (from pandas->datasets) (2.8.2)\n",
            "Requirement already satisfied: pytz>=2020.1 in /usr/local/lib/python3.10/dist-packages (from pandas->datasets) (2023.3.post1)\n",
            "Requirement already satisfied: six>=1.5 in /usr/local/lib/python3.10/dist-packages (from python-dateutil>=2.8.1->pandas->datasets) (1.16.0)\n",
            "Requirement already satisfied: nltk in /usr/local/lib/python3.10/dist-packages (3.8.1)\n",
            "Requirement already satisfied: click in /usr/local/lib/python3.10/dist-packages (from nltk) (8.1.7)\n",
            "Requirement already satisfied: joblib in /usr/local/lib/python3.10/dist-packages (from nltk) (1.3.2)\n",
            "Requirement already satisfied: regex>=2021.8.3 in /usr/local/lib/python3.10/dist-packages (from nltk) (2023.6.3)\n",
            "Requirement already satisfied: tqdm in /usr/local/lib/python3.10/dist-packages (from nltk) (4.66.1)\n",
            "Requirement already satisfied: rouge_score in /usr/local/lib/python3.10/dist-packages (0.1.2)\n",
            "Requirement already satisfied: absl-py in /usr/local/lib/python3.10/dist-packages (from rouge_score) (1.4.0)\n",
            "Requirement already satisfied: nltk in /usr/local/lib/python3.10/dist-packages (from rouge_score) (3.8.1)\n",
            "Requirement already satisfied: numpy in /usr/local/lib/python3.10/dist-packages (from rouge_score) (1.23.5)\n",
            "Requirement already satisfied: six>=1.14.0 in /usr/local/lib/python3.10/dist-packages (from rouge_score) (1.16.0)\n",
            "Requirement already satisfied: click in /usr/local/lib/python3.10/dist-packages (from nltk->rouge_score) (8.1.7)\n",
            "Requirement already satisfied: joblib in /usr/local/lib/python3.10/dist-packages (from nltk->rouge_score) (1.3.2)\n",
            "Requirement already satisfied: regex>=2021.8.3 in /usr/local/lib/python3.10/dist-packages (from nltk->rouge_score) (2023.6.3)\n",
            "Requirement already satisfied: tqdm in /usr/local/lib/python3.10/dist-packages (from nltk->rouge_score) (4.66.1)\n",
            "Requirement already satisfied: evaluate in /usr/local/lib/python3.10/dist-packages (0.4.1)\n",
            "Requirement already satisfied: datasets>=2.0.0 in /usr/local/lib/python3.10/dist-packages (from evaluate) (2.15.0)\n",
            "Requirement already satisfied: numpy>=1.17 in /usr/local/lib/python3.10/dist-packages (from evaluate) (1.23.5)\n",
            "Requirement already satisfied: dill in /usr/local/lib/python3.10/dist-packages (from evaluate) (0.3.7)\n",
            "Requirement already satisfied: pandas in /usr/local/lib/python3.10/dist-packages (from evaluate) (1.5.3)\n",
            "Requirement already satisfied: requests>=2.19.0 in /usr/local/lib/python3.10/dist-packages (from evaluate) (2.31.0)\n",
            "Requirement already satisfied: tqdm>=4.62.1 in /usr/local/lib/python3.10/dist-packages (from evaluate) (4.66.1)\n",
            "Requirement already satisfied: xxhash in /usr/local/lib/python3.10/dist-packages (from evaluate) (3.4.1)\n",
            "Requirement already satisfied: multiprocess in /usr/local/lib/python3.10/dist-packages (from evaluate) (0.70.15)\n",
            "Requirement already satisfied: fsspec[http]>=2021.05.0 in /usr/local/lib/python3.10/dist-packages (from evaluate) (2023.6.0)\n",
            "Requirement already satisfied: huggingface-hub>=0.7.0 in /usr/local/lib/python3.10/dist-packages (from evaluate) (0.19.4)\n",
            "Requirement already satisfied: packaging in /usr/local/lib/python3.10/dist-packages (from evaluate) (23.2)\n",
            "Requirement already satisfied: responses<0.19 in /usr/local/lib/python3.10/dist-packages (from evaluate) (0.18.0)\n",
            "Requirement already satisfied: pyarrow>=8.0.0 in /usr/local/lib/python3.10/dist-packages (from datasets>=2.0.0->evaluate) (9.0.0)\n",
            "Requirement already satisfied: pyarrow-hotfix in /usr/local/lib/python3.10/dist-packages (from datasets>=2.0.0->evaluate) (0.6)\n",
            "Requirement already satisfied: aiohttp in /usr/local/lib/python3.10/dist-packages (from datasets>=2.0.0->evaluate) (3.9.1)\n",
            "Requirement already satisfied: pyyaml>=5.1 in /usr/local/lib/python3.10/dist-packages (from datasets>=2.0.0->evaluate) (6.0.1)\n",
            "Requirement already satisfied: filelock in /usr/local/lib/python3.10/dist-packages (from huggingface-hub>=0.7.0->evaluate) (3.13.1)\n",
            "Requirement already satisfied: typing-extensions>=3.7.4.3 in /usr/local/lib/python3.10/dist-packages (from huggingface-hub>=0.7.0->evaluate) (4.5.0)\n",
            "Requirement already satisfied: charset-normalizer<4,>=2 in /usr/local/lib/python3.10/dist-packages (from requests>=2.19.0->evaluate) (3.3.2)\n",
            "Requirement already satisfied: idna<4,>=2.5 in /usr/local/lib/python3.10/dist-packages (from requests>=2.19.0->evaluate) (3.6)\n",
            "Requirement already satisfied: urllib3<3,>=1.21.1 in /usr/local/lib/python3.10/dist-packages (from requests>=2.19.0->evaluate) (2.0.7)\n",
            "Requirement already satisfied: certifi>=2017.4.17 in /usr/local/lib/python3.10/dist-packages (from requests>=2.19.0->evaluate) (2023.11.17)\n",
            "Requirement already satisfied: python-dateutil>=2.8.1 in /usr/local/lib/python3.10/dist-packages (from pandas->evaluate) (2.8.2)\n",
            "Requirement already satisfied: pytz>=2020.1 in /usr/local/lib/python3.10/dist-packages (from pandas->evaluate) (2023.3.post1)\n",
            "Requirement already satisfied: attrs>=17.3.0 in /usr/local/lib/python3.10/dist-packages (from aiohttp->datasets>=2.0.0->evaluate) (23.1.0)\n",
            "Requirement already satisfied: multidict<7.0,>=4.5 in /usr/local/lib/python3.10/dist-packages (from aiohttp->datasets>=2.0.0->evaluate) (6.0.4)\n",
            "Requirement already satisfied: yarl<2.0,>=1.0 in /usr/local/lib/python3.10/dist-packages (from aiohttp->datasets>=2.0.0->evaluate) (1.9.3)\n",
            "Requirement already satisfied: frozenlist>=1.1.1 in /usr/local/lib/python3.10/dist-packages (from aiohttp->datasets>=2.0.0->evaluate) (1.4.0)\n",
            "Requirement already satisfied: aiosignal>=1.1.2 in /usr/local/lib/python3.10/dist-packages (from aiohttp->datasets>=2.0.0->evaluate) (1.3.1)\n",
            "Requirement already satisfied: async-timeout<5.0,>=4.0 in /usr/local/lib/python3.10/dist-packages (from aiohttp->datasets>=2.0.0->evaluate) (4.0.3)\n",
            "Requirement already satisfied: six>=1.5 in /usr/local/lib/python3.10/dist-packages (from python-dateutil>=2.8.1->pandas->evaluate) (1.16.0)\n"
          ]
        }
      ]
    },
    {
      "cell_type": "code",
      "execution_count": null,
      "metadata": {
        "id": "6yCiU7xKrDlJ"
      },
      "outputs": [],
      "source": [
        "from transformers import AutoTokenizer\n",
        "\n",
        "model_checkpoint = \"t5-small\"\n",
        "tokenizer = AutoTokenizer.from_pretrained(model_checkpoint)"
      ]
    },
    {
      "cell_type": "code",
      "source": [
        "from google.colab import userdata\n",
        "from huggingface_hub import login\n",
        "\n",
        "login(token=userdata.get('token'))"
      ],
      "metadata": {
        "id": "sKFfl-Jgr6SM",
        "colab": {
          "base_uri": "https://localhost:8080/"
        },
        "outputId": "04f0a499-4cf4-4d48-c49d-6fddc0675219"
      },
      "execution_count": null,
      "outputs": [
        {
          "output_type": "stream",
          "name": "stdout",
          "text": [
            "Token will not been saved to git credential helper. Pass `add_to_git_credential=True` if you want to set the git credential as well.\n",
            "Token is valid (permission: read).\n",
            "Your token has been saved to /root/.cache/huggingface/token\n",
            "Login successful\n"
          ]
        }
      ]
    },
    {
      "cell_type": "code",
      "source": [
        "import datasets\n",
        "\n",
        "cnn = datasets.load_dataset(\"cnn_dailymail\", \"3.0.0\")\n",
        "cnn"
      ],
      "metadata": {
        "id": "lXpRkEcCC42-",
        "outputId": "c42d2bed-ec72-4971-bd33-de383a4ddb31",
        "colab": {
          "base_uri": "https://localhost:8080/"
        }
      },
      "execution_count": null,
      "outputs": [
        {
          "output_type": "execute_result",
          "data": {
            "text/plain": [
              "DatasetDict({\n",
              "    train: Dataset({\n",
              "        features: ['article', 'highlights', 'id'],\n",
              "        num_rows: 287113\n",
              "    })\n",
              "    validation: Dataset({\n",
              "        features: ['article', 'highlights', 'id'],\n",
              "        num_rows: 13368\n",
              "    })\n",
              "    test: Dataset({\n",
              "        features: ['article', 'highlights', 'id'],\n",
              "        num_rows: 11490\n",
              "    })\n",
              "})"
            ]
          },
          "metadata": {},
          "execution_count": 29
        }
      ]
    },
    {
      "cell_type": "code",
      "source": [
        "def get_samples(dataset, num_samples=100, seed=42):\n",
        "    train_sample = dataset[\"train\"].shuffle(seed=seed).select(range(num_samples))\n",
        "    valid_sample = dataset[\"validation\"].shuffle(seed=seed).select(range(int(num_samples/6.7)))\n",
        "    test_sample = dataset[\"test\"].shuffle(seed=seed).select(range(int(num_samples/6.7)))\n",
        "    return datasets.DatasetDict({\"train\":train_sample, \"valid\":valid_sample, \"test\":test_sample})"
      ],
      "metadata": {
        "id": "Nxkq5LF9tO5F"
      },
      "execution_count": null,
      "outputs": []
    },
    {
      "cell_type": "code",
      "source": [
        "cnn = get_samples(cnn, num_samples=1000)\n",
        "cnn"
      ],
      "metadata": {
        "colab": {
          "base_uri": "https://localhost:8080/"
        },
        "id": "zggPFoUPtYq-",
        "outputId": "892b563b-fc80-4a52-abba-4b5591c48d2f"
      },
      "execution_count": null,
      "outputs": [
        {
          "output_type": "execute_result",
          "data": {
            "text/plain": [
              "DatasetDict({\n",
              "    train: Dataset({\n",
              "        features: ['article', 'highlights', 'id'],\n",
              "        num_rows: 1000\n",
              "    })\n",
              "    valid: Dataset({\n",
              "        features: ['article', 'highlights', 'id'],\n",
              "        num_rows: 149\n",
              "    })\n",
              "    test: Dataset({\n",
              "        features: ['article', 'highlights', 'id'],\n",
              "        num_rows: 149\n",
              "    })\n",
              "})"
            ]
          },
          "metadata": {},
          "execution_count": 31
        }
      ]
    },
    {
      "cell_type": "code",
      "source": [
        "def show_samples(dataset, num_samples=3, seed=42):\n",
        "    sample = dataset[\"train\"].shuffle(seed=seed).select(range(num_samples))\n",
        "    for example in sample:\n",
        "        print(f\"\\n'>> article: {example['article']}'\")\n",
        "        print(f\"\\n'>> highlights: {example['highlights']}'\")\n",
        "\n",
        "\n",
        "show_samples(cnn, num_samples=1)"
      ],
      "metadata": {
        "colab": {
          "base_uri": "https://localhost:8080/"
        },
        "id": "Rtz1pvjvtd3w",
        "outputId": "7fff331a-7655-4deb-87a1-67744c55c6ef"
      },
      "execution_count": null,
      "outputs": [
        {
          "output_type": "stream",
          "name": "stdout",
          "text": [
            "\n",
            "'>> article: By . Nick Enoch . Star trails sweep over the Giant’s Causeway in Northern Ireland, dust clouds are moulded into colossal arrangements by cosmic radiation thousands of light years away and a bright meteor races across the night sky passing over Indonesia’s smoke-spewing Mount Bromo. These are just some of the incredible photos which have been shortlisted in the 2014 Astronomy Photographer of the Year competition. The contest, run by the Royal Observatory Greenwich in association with BBC Sky at Night Magazine, is now in its sixth year - and a record number of entries from more than 2,500 enthusiastic amateurs and professional photographers have poured in from around the world. Centre of the Heart Nebula by Ivan Eder, Hungary. Situated 7,500 light years away in the W-shaped constellation of Cassiopeia, the Heart Nebula is a vast region of glowing gas, energised by a cluster of young stars at its centre. The image depicts the central region, where dust clouds are being eroded and moulded into rugged shapes by the searing cosmic radiation . What the...! by Tommy Richardsen, Norway. A flamboyant flare-up of the aurora over Steinsvik beach, in Nordreisa, Troms, Norway. It lasted no more than ten minutes from start to finish but it lit up the entire sky and took the photographer by surprise, just as he was about to leave the shoot. The figure on the right is his brother, furiously searching for his lens cap to capture the same phenomenon. It was hard for the photographer not to laugh at his brother while moving the camera left to right capturing the panorama, but luckily he stood still long enough to make the final capture . Father and Son Observe Comet PanSTARRS by Chris Cook, USA. They saw the evening display on First Encounter Beach, Eastham, Massachusetts. The photographer had spent weeks preparing the shoot to capture the comet, which will not be seen again for over 100,000 years, in order to foster his son's interest in astronomy . Eclipse and Old Faithful (left) by Robert Howell, USA. Visitors witness the Old Faithful geyser in Yellowstone National Park erupt as the moon partially eclipses the sun. The scene captures a sense of awe set against blue sky and white geyser steam, as the onlookers strain to see the joining of these two phenomena - one geological and one astronomical. Right,  A Giant's Star Trail by Rob Oliver, UK. A composition of several images taken at the famed Giant's Causeway in Northern Ireland. Our planet's rotation draws the stars out into circles - considered to be the most perfect shape by ancient philosophers . Occultation of Jupiter by Sebastián Guillermaz, Argentina. An unusual daytime view of an astronomical alignment, captured from the photographer's backyard in Los Polvorines, Buenos Aires. The image shows the moments just before the planet Jupiter is blocked from view by the moon. The planet can be seen as a pale dot to the right of the moon's body . Cave With Aurora Skylight by Ingólfur Bjargmundsson, Iceland. This image was taken while exploring a 1,300m lava cave in Iceland. In some areas, the roof has caved in, so snow piles up in the winter time and creates these snow peaks. The aurora at its peak gleams through the roof of the cave and despite only taking up a small portion of the photo, it remains the focal point . Shortlisted entries - of which there are more than 120 - include the magnificent pageantry of aurora dancing above the clouds taken from the window of a transatlantic flight between London and New York and the remarkable scene of the Milky Way reflected in the Snake River at the famous Oxbow Bend of Grand Teton National Park in Wyoming. Another image shows a crowd of awestruck onlookers taking in the spectacular solar eclipse gleaming through the steam as the Old Faithful Geyser erupts in Yellowstone National Park. And the variety of settings is not limited to our planet. Photographers have also captured sights from across our Solar System, galaxy and even further afield. Eta Aquarid Meteor Shower over Mount Bromo by Justin Ng, Singapore. A bright meteor streaks across the magnificent night sky over the smoke-spewing Mount Bromo just one day before the peak of the Eta Aquarid meteor shower, which is caused by Halley's Comet. Mount Bromo is one of the most well-known active volcanoes in East Java, Indonesia. Also seen in the photograph are the highest active volcano, Mount Semeru (3,676m), and the extinct volcano, Mount Batok, which is located to the right of Mount Bromo . Orion Nebula by Anna Morris, USA. In this view of M42, more commonly known as the Orion Nebula, the photographer has emphasised the delicate veils of dust surrounding the more familiar gleaming heart of the nebula. The image highlights the structure of the object, giving a sense of vast cavities filled with pink hydrogen gas and the blue haze of reflected starlight . In-flight Entertainment by Paul Williams, UK. Resplendent aurora seen from the window of a transatlantic flight between London and New York in February 2014. The photographer balanced his camera on his backpack to capture this image of the greatest natural light show on earth from a rare perspective . The Turbulent Heart of the Scorpion by Rolf Wahl Olsen, New Zealand. A spectacular display of light and shade with contrasting hues of the rarely imaged, colourful, action-packed core of the multiple star system, Rho Ophiuchi. A deep exposure showcases the full finery of the delicate whirling clouds, of an area in which the human eye would struggle to see much detail, even with the use of a telescope . Three Planets in Conjunction by Lóránd Fényes, Hungary. The staggering colours of the sunset and flora of the African savannah afford a unique background for the planetary alignment of Jupiter, Venus and Mercury in June 2013. The golden hues of the sunrise, the three planets appeared as if they were strung on an invisible thread, and the bare tree and the human figure interwoven both point to one direction: Jupiter . Celestial Dance by Claus Possberg, Germany. The spectacular Northern Lights pictured unfolding over a fjord, in Skjervøy, Troms, Norway. The vibrant colours are produced at various altitudes by different atmospheric gases, with blue light emitted by nitrogen and green by oxygen. Red light can be produced by both gases, while purples, pinks and yellows occur where the various colours mix and intersect . Geminid Fireball by Patrick Cullis, USA. The Geminid meteor shower races over the Flatirons of Boulder, Colorado, in December 2012. Here, a larger than usual fragment burns bright enough to outshine all of the planets, producing what is commonly called a Fireball. Orion can also be seen in the photograph trailing across the sky toward the Pleiades and the glow of Jupiter inside the constellation of Taurus . The photos include a rare daytime scene of Jupiter moments before its astronomical alignment behind the body of the moon; the searing heat of the Crescent Nebula glowing in a whirl of red and blue; and the sprawling stellar nursery of the Orion Nebula 1,350 light years away and home to stars at diverse stages of their lives. The competition’s judges include space scientist and TV presenter Dr Maggie Aderin-Pocock, Editor of Sky at Night Magazine Chris Bramley and the Royal Observatory’s Public Astronomer Dr Marek Kukula. The winners of the four categories and three special prizes will be announced on September 17 and an exhibition of the winning images opens the following day at the Royal Observatory. The exhibition is free of charge and runs until February 2015. Winners and shortlisted entries will also be published in the competition’s official book, available on September 18 from bookstores and online. All entries to the competition were submitted via a dedicated Flickr group (www.flickr.com/groups/astrophoto). The awards ceremony can be followed live on Twitter #astrophoto2014. Oxbow Bend Reflections by David Kingham, USA. The Milky Way reflected in the Snake River at the famous Oxbow Bend in Grand Teton National Park, Wyoming. The galaxy is poised just above the horizon mimicking a glowing cloud . Star Trails on the Beach by Sebastián Guillermaz, Argentina. Multiple shots have been used to produce a time-lapse effect, as the Earth's rotation draws the light from the stars into long trails arcing over the beach in Mar de Ajo, Buenos Aires Province . Creature by Ole Christian Salomonsen, Norway. On October 30, a CME (Coronal Mass Ejection) hit Earth, displaying multi-coloured auroras across the sky for most of the night in Kattfjordeidet, Tromsø. The old birch trees resemble arms reaching for the auroral corona appearing like a strange creature in the sky . NGC 6888 by Mark Hanson, USA. This colourful starscape taken from Rancho Hidalgo, New Mexico, reveals the searing heat of the Crescent Nebula glowing in a whirl of red and blue. The emission nebula is a colossal shell of material ejected from a powerful but short-lived Wolf-Rayet star (WR 136), seen close to the image centre. Ultraviolet radiation and stellar wind now heats the swelling cloud, causing it to glow .'\n",
            "\n",
            "'>> highlights: In one image, Old Faithful geyser in Yellowstone National Park, Wyoming, erupts as moon partially eclipses sun .\n",
            "Another shows Heart Nebula, 7,500 light years away in constellation of Cassiopeia .\n",
            "More than 2,500 entries poured in from amateur and professional photographers around the world .'\n"
          ]
        }
      ]
    },
    {
      "cell_type": "markdown",
      "source": [
        "## Preprocessing"
      ],
      "metadata": {
        "id": "lyPry4kTWFBr"
      }
    },
    {
      "cell_type": "code",
      "source": [
        "prefix = \"summarize: \"\n",
        "\n",
        "def preprocess_function(examples):\n",
        "    inputs = [prefix + doc for doc in examples[\"article\"]]\n",
        "    model_inputs = tokenizer(inputs, max_length=512, truncation=True)\n",
        "\n",
        "    labels = tokenizer(text_target=examples[\"highlights\"], max_length=128, truncation=True)\n",
        "\n",
        "    model_inputs[\"labels\"] = labels[\"input_ids\"]\n",
        "    return model_inputs"
      ],
      "metadata": {
        "id": "K2xcXlxrWJG2"
      },
      "execution_count": null,
      "outputs": []
    },
    {
      "cell_type": "code",
      "source": [
        "tokenized_cnn = cnn.map(preprocess_function, batched=True)"
      ],
      "metadata": {
        "colab": {
          "base_uri": "https://localhost:8080/",
          "height": 49,
          "referenced_widgets": [
            "1461aca704e74d3b93fce756c2518ba6",
            "8c3e3d8c512e494594cc63309ff5570f",
            "8f3053bde2084a04b418b42ef0a9100b",
            "95590267c6604de4ab99fa2827f8af04",
            "5ec948a306824bb4a18d80f13574fbbc",
            "ef72a53394104c98a24769ad049b298d",
            "7cb5c1016cc04f0e965cb3531d22e02f",
            "f9705a57dc474b17a8190c92bd508869",
            "658e6ec7a32b4827aba7f5ee010facd5",
            "d03ea8fadfc14444bf62f87ea5fcba72",
            "881ad5bd6c864147aded80dcfd084e13"
          ]
        },
        "id": "4bRMx_n9cve5",
        "outputId": "e1b9f1fe-e2a3-450b-9cba-bfc1806d678d"
      },
      "execution_count": null,
      "outputs": [
        {
          "output_type": "display_data",
          "data": {
            "text/plain": [
              "Map:   0%|          | 0/149 [00:00<?, ? examples/s]"
            ],
            "application/vnd.jupyter.widget-view+json": {
              "version_major": 2,
              "version_minor": 0,
              "model_id": "1461aca704e74d3b93fce756c2518ba6"
            }
          },
          "metadata": {}
        }
      ]
    },
    {
      "cell_type": "code",
      "source": [
        "tokenized_cnn = tokenized_cnn.remove_columns(['id'])"
      ],
      "metadata": {
        "id": "nJSCLIT6pjVh"
      },
      "execution_count": null,
      "outputs": []
    },
    {
      "cell_type": "code",
      "source": [
        "from transformers import TFAutoModelForSeq2SeqLM\n",
        "\n",
        "model = TFAutoModelForSeq2SeqLM.from_pretrained(model_checkpoint)"
      ],
      "metadata": {
        "colab": {
          "base_uri": "https://localhost:8080/"
        },
        "id": "c6Gk6pEJtsFu",
        "outputId": "41ad2e22-28ac-4965-df33-1d10ad923a12"
      },
      "execution_count": null,
      "outputs": [
        {
          "output_type": "stream",
          "name": "stderr",
          "text": [
            "All PyTorch model weights were used when initializing TFT5ForConditionalGeneration.\n",
            "\n",
            "All the weights of TFT5ForConditionalGeneration were initialized from the PyTorch model.\n",
            "If your task is similar to the task the model of the checkpoint was trained on, you can already use TFT5ForConditionalGeneration for predictions without further training.\n"
          ]
        }
      ]
    },
    {
      "cell_type": "code",
      "source": [
        "from transformers import DataCollatorForSeq2Seq\n",
        "\n",
        "data_collator = DataCollatorForSeq2Seq(tokenizer=tokenizer, model=model, return_tensors=\"tf\")"
      ],
      "metadata": {
        "id": "Qc6nYdSTuQF2"
      },
      "execution_count": null,
      "outputs": []
    },
    {
      "cell_type": "markdown",
      "source": [
        "## Evaluation"
      ],
      "metadata": {
        "id": "28UoaMDtyp1-"
      }
    },
    {
      "cell_type": "code",
      "source": [
        "import numpy as np\n",
        "import evaluate\n",
        "\n",
        "rouge = evaluate.load(\"rouge\")\n",
        "\n",
        "def compute_metrics(eval_pred):\n",
        "    predictions, labels = eval_pred\n",
        "    decoded_preds = tokenizer.batch_decode(predictions, skip_special_tokens=True)\n",
        "    labels = np.where(labels != -100, labels, tokenizer.pad_token_id)\n",
        "    decoded_labels = tokenizer.batch_decode(labels, skip_special_tokens=True)\n",
        "\n",
        "    result = rouge.compute(predictions=decoded_preds, references=decoded_labels, use_stemmer=True)\n",
        "\n",
        "    prediction_lens = [np.count_nonzero(pred != tokenizer.pad_token_id) for pred in predictions]\n",
        "    result[\"gen_len\"] = np.mean(prediction_lens)\n",
        "\n",
        "    return {k: round(v, 4) for k, v in result.items()}"
      ],
      "metadata": {
        "id": "rB9GNDmv2ti4"
      },
      "execution_count": null,
      "outputs": []
    },
    {
      "cell_type": "markdown",
      "source": [
        "## Training"
      ],
      "metadata": {
        "id": "uC__L6Wr3NDt"
      }
    },
    {
      "cell_type": "code",
      "source": [
        "from transformers import create_optimizer, AdamWeightDecay\n",
        "\n",
        "optimizer = AdamWeightDecay(learning_rate=2e-5, weight_decay_rate=0.01)"
      ],
      "metadata": {
        "id": "_P8DgAejpEzg"
      },
      "execution_count": null,
      "outputs": []
    },
    {
      "cell_type": "markdown",
      "source": [
        "Load T5 with TFAutoModelForSeq2SeqLM:"
      ],
      "metadata": {
        "id": "8d2t2hEEpeT-"
      }
    },
    {
      "cell_type": "markdown",
      "source": [
        "Convert your datasets to the tf.data.Dataset format with prepare_tf_dataset():"
      ],
      "metadata": {
        "id": "Rg0CiId3polR"
      }
    },
    {
      "cell_type": "code",
      "source": [
        "tf_train_set = model.prepare_tf_dataset(\n",
        "    tokenized_cnn[\"train\"],\n",
        "    shuffle=True,\n",
        "    batch_size=16,\n",
        "    collate_fn=data_collator,\n",
        ")\n",
        "\n",
        "tf_test_set = model.prepare_tf_dataset(\n",
        "    tokenized_cnn[\"test\"],\n",
        "    shuffle=False,\n",
        "    batch_size=16,\n",
        "    collate_fn=data_collator,\n",
        ")"
      ],
      "metadata": {
        "colab": {
          "base_uri": "https://localhost:8080/"
        },
        "id": "9JQd1DEytxu6",
        "outputId": "cd54aa80-3552-423a-bb30-d8ff9b6165b1"
      },
      "execution_count": null,
      "outputs": [
        {
          "output_type": "stream",
          "name": "stderr",
          "text": [
            "You're using a T5TokenizerFast tokenizer. Please note that with a fast tokenizer, using the `__call__` method is faster than using a method to encode the text followed by a call to the `pad` method to get a padded encoding.\n"
          ]
        }
      ]
    },
    {
      "cell_type": "markdown",
      "source": [
        "Transformers models all have a default task-relevant loss function"
      ],
      "metadata": {
        "id": "QoAN47IOrCeh"
      }
    },
    {
      "cell_type": "code",
      "source": [
        "import tensorflow as tf\n",
        "\n",
        "model.compile(optimizer=optimizer)  # No loss argument!"
      ],
      "metadata": {
        "id": "ewsZCaYdtxx_"
      },
      "execution_count": null,
      "outputs": []
    },
    {
      "cell_type": "code",
      "source": [
        "from transformers.keras_callbacks import KerasMetricCallback\n",
        "\n",
        "#  By setting predict_with_generate=True, we will generate text for each sample in the evaluation set. That means we evaluate generated text within the compute_metric function.\n",
        "metric_callback = KerasMetricCallback(metric_fn=compute_metrics, eval_dataset=tf_test_set, predict_with_generate=True)\n",
        "\n",
        "callbacks = [metric_callback]"
      ],
      "metadata": {
        "id": "MpbUl0IjrRPZ"
      },
      "execution_count": null,
      "outputs": []
    },
    {
      "cell_type": "code",
      "source": [
        "model.fit(x=tf_train_set, validation_data=tf_test_set, epochs=3, callbacks=callbacks)"
      ],
      "metadata": {
        "colab": {
          "base_uri": "https://localhost:8080/"
        },
        "id": "4w8VVmHIt4Br",
        "outputId": "44d52552-6bc8-417a-fb1d-0794ed6b49b0"
      },
      "execution_count": null,
      "outputs": [
        {
          "output_type": "stream",
          "name": "stdout",
          "text": [
            "Epoch 1/3\n",
            "62/62 [==============================] - ETA: 0s - loss: 2.4179"
          ]
        },
        {
          "output_type": "stream",
          "name": "stderr",
          "text": [
            "/usr/local/lib/python3.10/dist-packages/transformers/generation/tf_utils.py:838: UserWarning: Using the model-agnostic default `max_length` (=20) to control the generation length.  recommend setting `max_new_tokens` to control the maximum length of the generation.\n",
            "  warnings.warn(\n"
          ]
        },
        {
          "output_type": "stream",
          "name": "stdout",
          "text": [
            "\b\b\b\b\b\b\b\b\b\b\b\b\b\b\b\b\b\b\b\b\b\b\b\b\b\b\b\b\b\b\b\b\b\b\b\b\b\b\b\b\b\b\b\b\b\b\b\b\b\b\b\b\b\b\b\b\b\b\b\b\b\b\b\r62/62 [==============================] - 86s 846ms/step - loss: 2.4179 - val_loss: 2.2350 - rouge1: 0.2416 - rouge2: 0.1076 - rougeL: 0.2003 - rougeLsum: 0.2000 - gen_len: 19.0000\n",
            "Epoch 2/3\n",
            "62/62 [==============================] - 48s 782ms/step - loss: 2.1821 - val_loss: 2.0846 - rouge1: 0.2388 - rouge2: 0.1042 - rougeL: 0.1976 - rougeLsum: 0.1972 - gen_len: 19.0000\n",
            "Epoch 3/3\n",
            "62/62 [==============================] - 47s 769ms/step - loss: 2.1080 - val_loss: 2.0515 - rouge1: 0.2417 - rouge2: 0.1063 - rougeL: 0.1972 - rougeLsum: 0.1972 - gen_len: 19.0000\n"
          ]
        },
        {
          "output_type": "execute_result",
          "data": {
            "text/plain": [
              "<keras.src.callbacks.History at 0x789d1c1a3010>"
            ]
          },
          "metadata": {},
          "execution_count": 44
        }
      ]
    },
    {
      "cell_type": "markdown",
      "source": [
        "## Inference"
      ],
      "metadata": {
        "id": "u8-muVPe2EeT"
      }
    },
    {
      "cell_type": "code",
      "source": [
        "text = \"summarize: Questa è una giornata per recuperare un terreno che non abbiamo saputo calpestare nel modo giusto”. Gianni Cuperlo presenta così la lunga giornata del convegno “La parola Pace – L’utopia che deve farsi realtà”, promosso a Milano dalla sua associazione Promessa democratica. Sul palco si alternano decine di dirigenti del Pd, fino alla segretaria Elly Schlein. E l’evento, oltre ai validi contributi sul Medio Oriente (tra cui quelli di Lucia Annunziata e Domenico Quirico), suona soprattutto come un netto cambio di atteggiamento del partito nei confronti della guerra in Ucraina. Persino un mea culpa, a giudicare dai toni di alcuni contributi. Non solo dall’ala più a sinistra, ma pure da Base Riformista, la corrente guidata da Lorenzo Guerini, seduto in prima fila per tutta la mattinata.\""
      ],
      "metadata": {
        "id": "VXy2oOM2R-yu"
      },
      "execution_count": null,
      "outputs": []
    },
    {
      "cell_type": "code",
      "source": [
        "inputs = tokenizer(text, return_tensors=\"tf\").input_ids\n",
        "outputs = model.generate(inputs, max_new_tokens=100, do_sample=False)\n",
        "tokenizer.decode(outputs[0], skip_special_tokens=True)"
      ],
      "metadata": {
        "colab": {
          "base_uri": "https://localhost:8080/",
          "height": 69
        },
        "id": "9nSZn_DUVQEB",
        "outputId": "feca6862-ead0-44bf-d664-508dd8887026"
      },
      "execution_count": null,
      "outputs": [
        {
          "output_type": "execute_result",
          "data": {
            "text/plain": [
              "'Gianni Cuperlo presenta cos la lunga giornata del convegno “La parola Pace – L’utopia che deve farsi realtà” Milano dalla sua associazione Promessa democratica.'"
            ],
            "application/vnd.google.colaboratory.intrinsic+json": {
              "type": "string"
            }
          },
          "metadata": {},
          "execution_count": 46
        }
      ]
    },
    {
      "cell_type": "code",
      "source": [],
      "metadata": {
        "id": "b_Wl7pRKTF7b"
      },
      "execution_count": null,
      "outputs": []
    }
  ]
}